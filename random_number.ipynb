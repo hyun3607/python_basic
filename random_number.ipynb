{
 "cells": [
  {
   "cell_type": "code",
   "execution_count": null,
   "id": "f3157722",
   "metadata": {},
   "outputs": [],
   "source": [
    "import random\n",
    "import pandas as pd\n",
    "\n",
    "def get_1_or_0():\n",
    "return random.randrange(0,2)"
   ]
  },
  {
   "cell_type": "code",
   "execution_count": null,
   "id": "42710f28",
   "metadata": {},
   "outputs": [],
   "source": [
    "def get_random(n):\n",
    "cnt = 1\n",
    "rn = get_1_or_0()\n",
    "while cnt < n:\n",
    "rn = rn+get_1_or_0()\n",
    "cnt = cnt+1\n",
    "if rn <= n:\n",
    "return rn"
   ]
  },
  {
   "cell_type": "code",
   "execution_count": null,
   "id": "c77bf477",
   "metadata": {},
   "outputs": [],
   "source": [
    "data = []\n",
    "for i in range(1000):\n",
    "data.append(get_random(10))\n",
    "df = pd.DataFrame(data, columns=['nums'])"
   ]
  },
  {
   "cell_type": "code",
   "execution_count": null,
   "id": "a1e3161e",
   "metadata": {},
   "outputs": [],
   "source": [
    "df_count = df.groupby(['nums'])[['nums']].count()\n",
    "df_count.columns = [\"count\"]\n",
    "df_count =df_count.reset_index()\n",
    "df_count"
   ]
  },
  {
   "cell_type": "code",
   "execution_count": null,
   "id": "072c4a9c",
   "metadata": {},
   "outputs": [],
   "source": [
    "df_count.plot.bar(x='nums',y='count',rot=0)"
   ]
  }
 ],
 "metadata": {
  "kernelspec": {
   "display_name": "Python 3 (ipykernel)",
   "language": "python",
   "name": "python3"
  }
 },
 "nbformat": 4,
 "nbformat_minor": 5
}
