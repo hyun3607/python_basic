{
 "cells": [
  {
   "cell_type": "code",
   "execution_count": null,
   "id": "0812f4e2",
   "metadata": {},
   "outputs": [],
   "source": [
    "log_dir = 'D:/python/logs/'+name+'/'\n",
    "    if not os.path.exists(log_dir):\n",
    "        os.mkdir(log_dir)"
   ]
  }
 ],
 "metadata": {
  "kernelspec": {
   "display_name": "Python 3 (ipykernel)",
   "language": "python",
   "name": "python3"
  },
  "language_info": {
   "codemirror_mode": {
    "name": "ipython",
    "version": 3
   },
   "file_extension": ".py",
   "mimetype": "text/x-python",
   "name": "python",
   "nbconvert_exporter": "python",
   "pygments_lexer": "ipython3",
   "version": "3.9.12"
  }
 },
 "nbformat": 4,
 "nbformat_minor": 5
}
